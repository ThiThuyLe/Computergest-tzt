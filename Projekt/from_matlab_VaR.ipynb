{
 "cells": [
  {
   "cell_type": "code",
   "execution_count": null,
   "id": "086d2837-cae5-4e71-8582-4b35cebd989a",
   "metadata": {},
   "outputs": [],
   "source": [
    "!pip install investpy"
   ]
  },
  {
   "cell_type": "code",
   "execution_count": 177,
   "id": "7debd613-be92-498c-b4d0-8b2b99109643",
   "metadata": {},
   "outputs": [],
   "source": [
    "import investpy\n",
    "import pandas as pd\n",
    "from scipy.stats import norm, mstats\n",
    "import numpy as np\n",
    "import matplotlib.pyplot as plt"
   ]
  },
  {
   "cell_type": "markdown",
   "id": "08dba710-3f43-4a9f-ae46-9f207e9b60dd",
   "metadata": {},
   "source": [
    "# Value-at-Risk Estimation and Backtesting\n",
    "\n",
    "This example shows how to estimate the value-at-risk (VaR) using three methods and perform a VaR backtesting analysis. The three methods are:\n",
    "\n",
    "- Normal distribution\n",
    "\n",
    "- Historical simulation\n",
    "\n",
    "- Exponential weighted moving average (EWMA)\n",
    "\n",
    "Value-at-risk is a statistical method that quantifies the risk level associated with a portfolio. The VaR measures the maximum amount of loss over a specified time horizon and at a given confidence level.\n",
    "\n",
    "Backtesting measures the accuracy of the VaR calculations. Using VaR methods, the loss forecast is calculated and then compared to the actual losses at the end of the next day. The degree of difference between the predicted and actual losses indicates whether the VaR model is underestimating or overestimating the risk. As such, backtesting looks retrospectively at data and helps to assess the VaR model.\n",
    "\n",
    "The three estimation methods used in this example estimate the VaR at 95% and 99% confidence levels."
   ]
  },
  {
   "cell_type": "markdown",
   "id": "147ea7af-3f3e-4cca-9bf6-549ecceccce9",
   "metadata": {},
   "source": [
    "## Load the Data and Define the Test Window\n"
   ]
  },
  {
   "cell_type": "markdown",
   "id": "98f1b1f4-b21c-4538-b3df-c7b83da7bcdb",
   "metadata": {},
   "source": [
    "Load the data. The data used in this example is from a time series of returns on the S&P index from 1993 through 2003."
   ]
  },
  {
   "cell_type": "code",
   "execution_count": 10,
   "id": "b7e89adb-8157-4872-8e6c-19ff6707f7f3",
   "metadata": {},
   "outputs": [],
   "source": [
    "sp_index = investpy.get_index_historical_data(index='S&P 500',country='United States',from_date='01/01/1993',to_date='1/1/2004')\n"
   ]
  },
  {
   "cell_type": "code",
   "execution_count": 11,
   "id": "23b9de84-ab5e-45b2-817f-b27738252164",
   "metadata": {},
   "outputs": [
    {
     "data": {
      "text/html": [
       "<div>\n",
       "<style scoped>\n",
       "    .dataframe tbody tr th:only-of-type {\n",
       "        vertical-align: middle;\n",
       "    }\n",
       "\n",
       "    .dataframe tbody tr th {\n",
       "        vertical-align: top;\n",
       "    }\n",
       "\n",
       "    .dataframe thead th {\n",
       "        text-align: right;\n",
       "    }\n",
       "</style>\n",
       "<table border=\"1\" class=\"dataframe\">\n",
       "  <thead>\n",
       "    <tr style=\"text-align: right;\">\n",
       "      <th></th>\n",
       "      <th>Open</th>\n",
       "      <th>High</th>\n",
       "      <th>Low</th>\n",
       "      <th>Close</th>\n",
       "      <th>Volume</th>\n",
       "      <th>Currency</th>\n",
       "    </tr>\n",
       "    <tr>\n",
       "      <th>Date</th>\n",
       "      <th></th>\n",
       "      <th></th>\n",
       "      <th></th>\n",
       "      <th></th>\n",
       "      <th></th>\n",
       "      <th></th>\n",
       "    </tr>\n",
       "  </thead>\n",
       "  <tbody>\n",
       "    <tr>\n",
       "      <th>1993-01-04</th>\n",
       "      <td>435.7</td>\n",
       "      <td>437.3</td>\n",
       "      <td>434.5</td>\n",
       "      <td>435.4</td>\n",
       "      <td>0</td>\n",
       "      <td>USD</td>\n",
       "    </tr>\n",
       "    <tr>\n",
       "      <th>1993-01-05</th>\n",
       "      <td>435.3</td>\n",
       "      <td>435.4</td>\n",
       "      <td>433.6</td>\n",
       "      <td>434.3</td>\n",
       "      <td>0</td>\n",
       "      <td>USD</td>\n",
       "    </tr>\n",
       "    <tr>\n",
       "      <th>1993-01-06</th>\n",
       "      <td>434.3</td>\n",
       "      <td>435.2</td>\n",
       "      <td>432.5</td>\n",
       "      <td>434.5</td>\n",
       "      <td>0</td>\n",
       "      <td>USD</td>\n",
       "    </tr>\n",
       "    <tr>\n",
       "      <th>1993-01-07</th>\n",
       "      <td>434.5</td>\n",
       "      <td>435.5</td>\n",
       "      <td>429.8</td>\n",
       "      <td>430.7</td>\n",
       "      <td>0</td>\n",
       "      <td>USD</td>\n",
       "    </tr>\n",
       "    <tr>\n",
       "      <th>1993-01-08</th>\n",
       "      <td>430.7</td>\n",
       "      <td>430.7</td>\n",
       "      <td>426.9</td>\n",
       "      <td>429.1</td>\n",
       "      <td>0</td>\n",
       "      <td>USD</td>\n",
       "    </tr>\n",
       "    <tr>\n",
       "      <th>...</th>\n",
       "      <td>...</td>\n",
       "      <td>...</td>\n",
       "      <td>...</td>\n",
       "      <td>...</td>\n",
       "      <td>...</td>\n",
       "      <td>...</td>\n",
       "    </tr>\n",
       "    <tr>\n",
       "      <th>2003-12-24</th>\n",
       "      <td>1096.0</td>\n",
       "      <td>1096.4</td>\n",
       "      <td>1092.7</td>\n",
       "      <td>1094.0</td>\n",
       "      <td>0</td>\n",
       "      <td>USD</td>\n",
       "    </tr>\n",
       "    <tr>\n",
       "      <th>2003-12-26</th>\n",
       "      <td>1094.0</td>\n",
       "      <td>1098.5</td>\n",
       "      <td>1094.0</td>\n",
       "      <td>1095.9</td>\n",
       "      <td>0</td>\n",
       "      <td>USD</td>\n",
       "    </tr>\n",
       "    <tr>\n",
       "      <th>2003-12-29</th>\n",
       "      <td>1095.9</td>\n",
       "      <td>1109.5</td>\n",
       "      <td>1095.9</td>\n",
       "      <td>1109.5</td>\n",
       "      <td>0</td>\n",
       "      <td>USD</td>\n",
       "    </tr>\n",
       "    <tr>\n",
       "      <th>2003-12-30</th>\n",
       "      <td>1109.5</td>\n",
       "      <td>1109.8</td>\n",
       "      <td>1106.4</td>\n",
       "      <td>1109.6</td>\n",
       "      <td>0</td>\n",
       "      <td>USD</td>\n",
       "    </tr>\n",
       "    <tr>\n",
       "      <th>2003-12-31</th>\n",
       "      <td>1109.6</td>\n",
       "      <td>1112.6</td>\n",
       "      <td>1106.2</td>\n",
       "      <td>1111.9</td>\n",
       "      <td>0</td>\n",
       "      <td>USD</td>\n",
       "    </tr>\n",
       "  </tbody>\n",
       "</table>\n",
       "<p>2772 rows × 6 columns</p>\n",
       "</div>"
      ],
      "text/plain": [
       "              Open    High     Low   Close  Volume Currency\n",
       "Date                                                       \n",
       "1993-01-04   435.7   437.3   434.5   435.4       0      USD\n",
       "1993-01-05   435.3   435.4   433.6   434.3       0      USD\n",
       "1993-01-06   434.3   435.2   432.5   434.5       0      USD\n",
       "1993-01-07   434.5   435.5   429.8   430.7       0      USD\n",
       "1993-01-08   430.7   430.7   426.9   429.1       0      USD\n",
       "...            ...     ...     ...     ...     ...      ...\n",
       "2003-12-24  1096.0  1096.4  1092.7  1094.0       0      USD\n",
       "2003-12-26  1094.0  1098.5  1094.0  1095.9       0      USD\n",
       "2003-12-29  1095.9  1109.5  1095.9  1109.5       0      USD\n",
       "2003-12-30  1109.5  1109.8  1106.4  1109.6       0      USD\n",
       "2003-12-31  1109.6  1112.6  1106.2  1111.9       0      USD\n",
       "\n",
       "[2772 rows x 6 columns]"
      ]
     },
     "execution_count": 11,
     "metadata": {},
     "output_type": "execute_result"
    }
   ],
   "source": [
    "sp_index"
   ]
  },
  {
   "cell_type": "code",
   "execution_count": 78,
   "id": "e852c330-0c8f-4180-8172-4503ffd5282b",
   "metadata": {},
   "outputs": [],
   "source": [
    "VaRExample  = sp_index[['Close']]\n",
    "VaRExample.index = pd.to_datetime(VaRExample.index)"
   ]
  },
  {
   "cell_type": "code",
   "execution_count": 65,
   "id": "66879948-374d-4103-bd14-94c1a2ca58a3",
   "metadata": {},
   "outputs": [],
   "source": [
    "def tick2ret(data):\n",
    "    return data.pct_change(1)"
   ]
  },
  {
   "cell_type": "code",
   "execution_count": 66,
   "id": "6288b0c6-a43e-4f5a-8a5a-68e94a88fef1",
   "metadata": {},
   "outputs": [],
   "source": [
    "Returns = tick2ret(VaRExample)\n",
    "DateReturns = Returns.index\n",
    "SampleSize = Returns.shape[0]"
   ]
  },
  {
   "cell_type": "markdown",
   "id": "5556f550-6d47-4958-981b-70d910b7096c",
   "metadata": {},
   "source": [
    "Define the estimation window as 250 trading days. The test window starts on the first day in 1996 and runs through the end of the sample."
   ]
  },
  {
   "cell_type": "code",
   "execution_count": 135,
   "id": "ab7bcd5b-4a49-4313-bb5b-178bc4ad5ee9",
   "metadata": {},
   "outputs": [],
   "source": [
    "TestWindowStart = DateReturns.get_loc('1996').start\n",
    "TestWindow = list(range(TestWindowStart , SampleSize + 1))\n",
    "EstimationWindowSize = 250"
   ]
  },
  {
   "cell_type": "markdown",
   "id": "7ad7716d-81ca-4489-aad7-30db2f4f6eaa",
   "metadata": {},
   "source": [
    "These values mean that there is at most a 5% and 1% probability, respectively, that the loss incurred will be greater than the maximum threshold (that is, greater than the VaR)."
   ]
  },
  {
   "cell_type": "code",
   "execution_count": 121,
   "id": "88fb116b-f0c4-4913-bc4b-e6f034be746d",
   "metadata": {},
   "outputs": [],
   "source": [
    "pVaR = [0.05 ,0.01]"
   ]
  },
  {
   "cell_type": "markdown",
   "id": "4ae2ffb6-0472-42ba-b227-131155e515e3",
   "metadata": {},
   "source": [
    "## Compute the VaR Using the Normal Distribution Method\n",
    "\n",
    "For the normal distribution method, assume that the profit and loss of the portfolio is normally distributed. Using this assumption, compute the VaR by multiplying the z-score, at each confidence level by the standard deviation of the returns. Because VaR backtesting looks retrospectively at data, the VaR \"today\" is computed based on values of the returns in the last N = 250 days leading to, but not including, \"today.\"\n",
    "\n"
   ]
  },
  {
   "cell_type": "code",
   "execution_count": 174,
   "id": "51b13d80-74a1-456b-acd8-524069c68785",
   "metadata": {},
   "outputs": [],
   "source": [
    "Zscore = norm.ppf(pVaR)\n",
    "Normal95 = np.zeros(len(TestWindow) + 1).reshape(-1,1);\n",
    "Normal99 = np.zeros(len(TestWindow) + 1).reshape(-1,1);\n",
    "\n",
    "\n",
    "for t in TestWindow:\n",
    "    i = t - TestWindowStart + 1\n",
    "    EstimationWindow = list(range(t-EstimationWindowSize,t-1))\n",
    "    \n",
    "    Sigma = np.std(Returns[EstimationWindow[0] : EstimationWindow[-1]+1]); \n",
    "    Normal95[i] = -Zscore[0]*Sigma;\n",
    "    Normal99[i] = -Zscore[1]*Sigma;\n"
   ]
  },
  {
   "cell_type": "code",
   "execution_count": 175,
   "id": "4e3d6523-24e5-4048-8613-ba6aef2a761a",
   "metadata": {},
   "outputs": [
    {
     "data": {
      "text/plain": [
       "Text(0.5, 1.0, 'VaR Estimation Using the Normal Distribution Method')"
      ]
     },
     "execution_count": 175,
     "metadata": {},
     "output_type": "execute_result"
    },
    {
     "data": {
      "image/png": "[encoded data removed]",
      "text/plain": [
       "<Figure size 432x288 with 1 Axes>"
      ]
     },
     "metadata": {
      "needs_background": "light"
     },
     "output_type": "display_data"
    }
   ],
   "source": [
    "plt.plot(DateReturns[TestWindow[:-1]] , Normal95[:-2] , label = \"95% Confidence Level\")\n",
    "plt.plot(DateReturns[TestWindow[:-1]] , Normal99[:-2] , label = \"99% Confidence Level\")\n",
    "plt.xlim(DateReturns[TestWindow[0]], DateReturns[TestWindow[-2]])\n",
    "plt.xlabel('Date')\n",
    "plt.ylabel('VaR')\n",
    "plt.legend(loc=4)\n",
    "plt.title('VaR Estimation Using the Normal Distribution Method')"
   ]
  },
  {
   "cell_type": "markdown",
   "id": "68ebf8f2-1aac-4d62-90b7-c5d4b1ad347a",
   "metadata": {},
   "source": [
    "## Compute the VaR Using the Historical Simulation Method\n",
    "Unlike the normal distribution method, the historical simulation (HS) is a nonparametric method. It does not assume a particular distribution of the asset returns. Historical simulation forecasts risk by assuming that past profits and losses can be used as the distribution of profits and losses for the next period of returns. The VaR \"today\" is computed as the p th-quantile of the last N returns prior to \"today.\""
   ]
  },
  {
   "cell_type": "code",
   "execution_count": 178,
   "id": "d952ee90-cfc2-462d-9a95-b24125646794",
   "metadata": {},
   "outputs": [],
   "source": [
    "Historical95 = np.zeros(len(TestWindow) + 1).reshape(-1,1);\n",
    "Historical99 = np.zeros(len(TestWindow) + 1).reshape(-1,1);\n",
    "\n",
    "\n",
    "for t in TestWindow:\n",
    "    i = t - TestWindowStart + 1\n",
    "    EstimationWindow = list(range(t-EstimationWindowSize,t-1))\n",
    "    \n",
    "    \n",
    "    X = Returns[EstimationWindow[0] : EstimationWindow[-1]+1]\n",
    "    Historical95[i] = -mstats.mquantiles(X,pVaR[0], 0.5, 0.5); \n",
    "    Historical99[i] = -mstats.mquantiles(X,pVaR[1], 0.5, 0.5); \n"
   ]
  },
  {
   "cell_type": "code",
   "execution_count": 180,
   "id": "0e3d93fd-1c98-4e66-8f8a-ba0b219265e0",
   "metadata": {},
   "outputs": [
    {
     "data": {
      "text/plain": [
       "Text(0.5, 1.0, 'VaR Estimation Using the Historical Simulation Method')"
      ]
     },
     "execution_count": 180,
     "metadata": {},
     "output_type": "execute_result"
    },
    {
     "data": {
      "image/png": "[encoded data removed]",
      "text/plain": [
       "<Figure size 432x288 with 1 Axes>"
      ]
     },
     "metadata": {
      "needs_background": "light"
     },
     "output_type": "display_data"
    }
   ],
   "source": [
    "plt.plot(DateReturns[TestWindow[:-1]] , Historical95[:-2] , label = \"95% Confidence Level\")\n",
    "plt.plot(DateReturns[TestWindow[:-1]] , Historical99[:-2] , label = \"99% Confidence Level\")\n",
    "plt.xlim(DateReturns[TestWindow[0]], DateReturns[TestWindow[-2]])\n",
    "plt.xlabel('Date')\n",
    "plt.ylabel('VaR')\n",
    "plt.legend(loc=1)\n",
    "plt.title('VaR Estimation Using the Historical Simulation Method')"
   ]
  },
  {
   "cell_type": "markdown",
   "id": "b8569dc8-1fa6-4174-8660-17fdd3a788fb",
   "metadata": {},
   "source": [
    "The preceding figure shows that the historical simulation curve has a piecewise constant profile. The reason for this is that quantiles do not change for several days until extreme events occur. Thus, the historical simulation method is slow to react to changes in volatility.\n",
    "\n"
   ]
  }
 ],
 "metadata": {
  "kernelspec": {
   "display_name": "Python 3 (ipykernel)",
   "language": "python",
   "name": "python3"
  },
  "language_info": {
   "codemirror_mode": {
    "name": "ipython",
    "version": 3
   },
   "file_extension": ".py",
   "mimetype": "text/x-python",
   "name": "python",
   "nbconvert_exporter": "python",
   "pygments_lexer": "ipython3",
   "version": "3.9.7"
  }
 },
 "nbformat": 4,
 "nbformat_minor": 5
}
